{
 "cells": [
  {
   "cell_type": "markdown",
   "source": [
    "# Exploratory Data Analysis\n",
    "\n",
    "This notebook contains the Exploratory Data Analysis for the Email Spam detection project"
   ],
   "metadata": {
    "collapsed": false
   },
   "id": "71282c77b4084739"
  },
  {
   "cell_type": "markdown",
   "source": [
    "## Installing requiements and Importing data\n"
   ],
   "metadata": {
    "collapsed": false
   },
   "id": "a77e4ea785d7a1d0"
  },
  {
   "cell_type": "code",
   "execution_count": null,
   "outputs": [],
   "source": [
    "import numpy as np\n",
    "import pandas as pd \n",
    "\n",
    "%matplotlib inline \n",
    "import matplotlib.pyplot as plt\n",
    "import seaborn as sns\n",
    "from wordcloud import WordCloud"
   ],
   "metadata": {
    "collapsed": false,
    "ExecuteTime": {
     "start_time": "2023-09-03T12:12:34.485405400Z"
    }
   },
   "id": "31e8707f22c8d970"
  },
  {
   "cell_type": "code",
   "execution_count": null,
   "outputs": [],
   "source": [
    "# Importing data\n",
    "data = pd.read_csv('../data/spam.csv', encoding='latin-1')\n",
    "data.head()"
   ],
   "metadata": {
    "collapsed": false,
    "ExecuteTime": {
     "end_time": "2023-09-03T12:12:34.501656600Z",
     "start_time": "2023-09-03T12:12:34.485405400Z"
    }
   },
   "id": "9a78596e79961471"
  },
  {
   "cell_type": "markdown",
   "source": [
    "## Feature Engineering"
   ],
   "metadata": {
    "collapsed": false
   },
   "id": "176fae484748691"
  },
  {
   "cell_type": "code",
   "execution_count": null,
   "outputs": [],
   "source": [
    "# Removing unnecessary columns\n",
    "data.drop([\"Unnamed: 2\", \"Unnamed: 3\", \"Unnamed: 4\"], axis=1 , inplace=True)\n",
    "\n",
    "# Renaming cols\n",
    "data.rename(columns={\n",
    "    'v1' : 'class',\n",
    "    'v2' : 'text'\n",
    "}, inplace=True)\n",
    "\n",
    "data.head()"
   ],
   "metadata": {
    "collapsed": false,
    "ExecuteTime": {
     "start_time": "2023-09-03T12:12:34.485405400Z"
    }
   },
   "id": "c38e12497ae5105c"
  },
  {
   "cell_type": "markdown",
   "source": [
    "## Data Exploration"
   ],
   "metadata": {
    "collapsed": false
   },
   "id": "12d3bd43eb0cd6ac"
  },
  {
   "cell_type": "code",
   "execution_count": null,
   "outputs": [],
   "source": [
    "# Get the shape of the data\n",
    "data.shape\n"
   ],
   "metadata": {
    "collapsed": false,
    "ExecuteTime": {
     "start_time": "2023-09-03T12:12:34.485405400Z"
    }
   },
   "id": "379c35729e5870a7"
  },
  {
   "cell_type": "markdown",
   "source": [
    "### Checks to perform on data\n",
    "\n",
    "* Check for missing values\n",
    "* Check for duplicate values\n",
    "* Check the dtypes of different data\n",
    "* Get the descriptive statistics of the data (We can skip this step because our data doesnt have any numeric columns)"
   ],
   "metadata": {
    "collapsed": false
   },
   "id": "193b3d850e575ddc"
  },
  {
   "cell_type": "markdown",
   "source": [
    "#### Check for missing values"
   ],
   "metadata": {
    "collapsed": false
   },
   "id": "cb44ceaca6cfcddf"
  },
  {
   "cell_type": "code",
   "execution_count": null,
   "outputs": [],
   "source": [
    "# check for missing values\n",
    "data.isnull().sum()"
   ],
   "metadata": {
    "collapsed": false,
    "ExecuteTime": {
     "start_time": "2023-09-03T12:12:34.500413400Z"
    }
   },
   "id": "9becb5bcefbeb24b"
  },
  {
   "cell_type": "markdown",
   "source": [
    "Our dataset doesn't contain any missing values\n"
   ],
   "metadata": {
    "collapsed": false
   },
   "id": "c205dfc3a58ebb24"
  },
  {
   "cell_type": "markdown",
   "source": [
    "#### Check for duplicate values"
   ],
   "metadata": {
    "collapsed": false
   },
   "id": "9639b0017ebeddd0"
  },
  {
   "cell_type": "code",
   "execution_count": null,
   "outputs": [],
   "source": [
    "# check for duplicate values\n",
    "data.duplicated().sum()"
   ],
   "metadata": {
    "collapsed": false,
    "ExecuteTime": {
     "end_time": "2023-09-03T12:12:34.501656600Z",
     "start_time": "2023-09-03T12:12:34.501656600Z"
    }
   },
   "id": "26fc414837e3b078"
  },
  {
   "cell_type": "markdown",
   "source": [
    "Our dataset contain duplicate values so let's remove them\n"
   ],
   "metadata": {
    "collapsed": false
   },
   "id": "8612fc26870f59ed"
  },
  {
   "cell_type": "code",
   "execution_count": null,
   "outputs": [],
   "source": [
    "data.drop_duplicates(inplace=True)\n",
    "\n",
    "# check for duplicate values again\n",
    "data.duplicated().sum()"
   ],
   "metadata": {
    "collapsed": false,
    "ExecuteTime": {
     "start_time": "2023-09-03T12:12:34.501656600Z"
    }
   },
   "id": "c68fb18dc3b72d4c"
  },
  {
   "cell_type": "markdown",
   "source": [
    "### Check for datatypes in the dataset"
   ],
   "metadata": {
    "collapsed": false
   },
   "id": "d123614f3a2e9820"
  },
  {
   "cell_type": "code",
   "execution_count": null,
   "outputs": [],
   "source": [
    "data.info()"
   ],
   "metadata": {
    "collapsed": false,
    "ExecuteTime": {
     "start_time": "2023-09-03T12:12:34.501656600Z"
    }
   },
   "id": "51dda12d31eb748f"
  },
  {
   "cell_type": "markdown",
   "source": [
    "## Data Visualization"
   ],
   "metadata": {
    "collapsed": false
   },
   "id": "dd7e8c982153bf83"
  },
  {
   "cell_type": "code",
   "execution_count": null,
   "outputs": [],
   "source": [
    "# Let's visualize the class column\n",
    "plt.figure(figsize=(10, 7))\n",
    "sns.countplot(data=data, x=\"class\")\n",
    "plt.show()"
   ],
   "metadata": {
    "collapsed": false,
    "ExecuteTime": {
     "start_time": "2023-09-03T12:12:34.501656600Z"
    }
   },
   "id": "7bfe71cb8ba812a7"
  },
  {
   "cell_type": "markdown",
   "source": [
    "\n",
    "From the above plot, our data contains more examples of `ham` which means `not spam` as compared to `spam`"
   ],
   "metadata": {
    "collapsed": false
   },
   "id": "663f51f0c546c1bf"
  },
  {
   "cell_type": "markdown",
   "source": [],
   "metadata": {
    "collapsed": false
   },
   "id": "74d758d872cde8ca"
  },
  {
   "cell_type": "code",
   "execution_count": null,
   "outputs": [],
   "source": [
    "wordcloud = WordCloud(background_color=\"white\",width=1600, height=800).generate(' '.join(data[\"text\"].tolist()))\n",
    "plt.figure(figsize=(20,10), facecolor='k')\n",
    "plt.imshow(wordcloud)"
   ],
   "metadata": {
    "collapsed": false,
    "ExecuteTime": {
     "start_time": "2023-09-03T12:12:34.501656600Z"
    }
   },
   "id": "2b413310a119a3c3"
  },
  {
   "cell_type": "code",
   "execution_count": null,
   "outputs": [],
   "source": [
    "# Save the new datafile in the folder\n",
    "data.to_csv(\"../data/data_cleaned.csv\", index=False, header=True)"
   ],
   "metadata": {
    "collapsed": false,
    "ExecuteTime": {
     "start_time": "2023-09-03T12:12:34.501656600Z"
    }
   },
   "id": "e725e59198596cff"
  }
 ],
 "metadata": {
  "kernelspec": {
   "display_name": "Python 3",
   "language": "python",
   "name": "python3"
  },
  "language_info": {
   "codemirror_mode": {
    "name": "ipython",
    "version": 2
   },
   "file_extension": ".py",
   "mimetype": "text/x-python",
   "name": "python",
   "nbconvert_exporter": "python",
   "pygments_lexer": "ipython2",
   "version": "2.7.6"
  }
 },
 "nbformat": 4,
 "nbformat_minor": 5
}
