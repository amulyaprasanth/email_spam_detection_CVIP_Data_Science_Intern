{
 "cells": [
  {
   "cell_type": "markdown",
   "id": "71282c77b4084739",
   "metadata": {
    "collapsed": false,
    "jupyter": {
     "outputs_hidden": false
    }
   },
   "source": [
    "# Exploratory Data Analysis\n",
    "\n",
    "This notebook contains the Exploratory Data Analysis for the Email Spam detection project"
   ]
  },
  {
   "cell_type": "markdown",
   "id": "a77e4ea785d7a1d0",
   "metadata": {
    "collapsed": false,
    "jupyter": {
     "outputs_hidden": false
    }
   },
   "source": [
    "## Installing requiements and Importing data\n"
   ]
  },
  {
   "cell_type": "code",
   "execution_count": null,
   "id": "31e8707f22c8d970",
   "metadata": {
    "ExecuteTime": {
     "start_time": "2023-09-03T12:12:34.485405400Z"
    },
    "collapsed": false,
    "jupyter": {
     "outputs_hidden": false
    }
   },
   "outputs": [],
   "source": [
    "import numpy as np\n",
    "import pandas as pd \n",
    "\n",
    "%matplotlib inline \n",
    "import matplotlib.pyplot as plt\n",
    "import seaborn as sns\n",
    "from wordcloud import WordCloud"
   ]
  },
  {
   "cell_type": "code",
   "execution_count": null,
   "id": "9a78596e79961471",
   "metadata": {
    "ExecuteTime": {
     "end_time": "2023-09-03T12:12:34.501656600Z",
     "start_time": "2023-09-03T12:12:34.485405400Z"
    },
    "collapsed": false,
    "jupyter": {
     "outputs_hidden": false
    }
   },
   "outputs": [],
   "source": [
    "# Importing data\n",
    "data = pd.read_csv('../data/spam.csv', encoding='latin-1')\n",
    "data.head()"
   ]
  },
  {
   "cell_type": "markdown",
   "id": "176fae484748691",
   "metadata": {
    "collapsed": false,
    "jupyter": {
     "outputs_hidden": false
    }
   },
   "source": [
    "## Feature Engineering"
   ]
  },
  {
   "cell_type": "code",
   "execution_count": null,
   "id": "c38e12497ae5105c",
   "metadata": {
    "ExecuteTime": {
     "start_time": "2023-09-03T12:12:34.485405400Z"
    },
    "collapsed": false,
    "jupyter": {
     "outputs_hidden": false
    }
   },
   "outputs": [],
   "source": [
    "# Removing unnecessary columns\n",
    "data.drop([\"Unnamed: 2\", \"Unnamed: 3\", \"Unnamed: 4\"], axis=1 , inplace=True)\n",
    "\n",
    "# Renaming cols\n",
    "data.rename(columns={\n",
    "    'v1' : 'class',\n",
    "    'v2' : 'text'\n",
    "}, inplace=True)\n",
    "\n",
    "data.head()"
   ]
  },
  {
   "cell_type": "markdown",
   "id": "12d3bd43eb0cd6ac",
   "metadata": {
    "collapsed": false,
    "jupyter": {
     "outputs_hidden": false
    }
   },
   "source": [
    "## Data Exploration"
   ]
  },
  {
   "cell_type": "code",
   "execution_count": null,
   "id": "379c35729e5870a7",
   "metadata": {
    "ExecuteTime": {
     "start_time": "2023-09-03T12:12:34.485405400Z"
    },
    "collapsed": false,
    "jupyter": {
     "outputs_hidden": false
    }
   },
   "outputs": [],
   "source": [
    "# Get the shape of the data\n",
    "data.shape\n"
   ]
  },
  {
   "cell_type": "markdown",
   "id": "193b3d850e575ddc",
   "metadata": {
    "collapsed": false,
    "jupyter": {
     "outputs_hidden": false
    }
   },
   "source": [
    "### Checks to perform on data\n",
    "\n",
    "* Check for missing values\n",
    "* Check for duplicate values\n",
    "* Check the dtypes of different data\n",
    "* Get the descriptive statistics of the data (We can skip this step because our data doesnt have any numeric columns)"
   ]
  },
  {
   "cell_type": "markdown",
   "id": "cb44ceaca6cfcddf",
   "metadata": {
    "collapsed": false,
    "jupyter": {
     "outputs_hidden": false
    }
   },
   "source": [
    "#### Check for missing values"
   ]
  },
  {
   "cell_type": "code",
   "execution_count": null,
   "id": "9becb5bcefbeb24b",
   "metadata": {
    "ExecuteTime": {
     "start_time": "2023-09-03T12:12:34.500413400Z"
    },
    "collapsed": false,
    "jupyter": {
     "outputs_hidden": false
    }
   },
   "outputs": [],
   "source": [
    "# check for missing values\n",
    "data.isnull().sum()"
   ]
  },
  {
   "cell_type": "markdown",
   "id": "c205dfc3a58ebb24",
   "metadata": {
    "collapsed": false,
    "jupyter": {
     "outputs_hidden": false
    }
   },
   "source": [
    "Our dataset doesn't contain any missing values\n"
   ]
  },
  {
   "cell_type": "markdown",
   "id": "9639b0017ebeddd0",
   "metadata": {
    "collapsed": false,
    "jupyter": {
     "outputs_hidden": false
    }
   },
   "source": [
    "#### Check for duplicate values"
   ]
  },
  {
   "cell_type": "code",
   "execution_count": null,
   "id": "26fc414837e3b078",
   "metadata": {
    "ExecuteTime": {
     "end_time": "2023-09-03T12:12:34.501656600Z",
     "start_time": "2023-09-03T12:12:34.501656600Z"
    },
    "collapsed": false,
    "jupyter": {
     "outputs_hidden": false
    }
   },
   "outputs": [],
   "source": [
    "# check for duplicate values\n",
    "data.duplicated().sum()"
   ]
  },
  {
   "cell_type": "markdown",
   "id": "8612fc26870f59ed",
   "metadata": {
    "collapsed": false,
    "jupyter": {
     "outputs_hidden": false
    }
   },
   "source": [
    "Our dataset contain duplicate values so let's remove them\n"
   ]
  },
  {
   "cell_type": "code",
   "execution_count": null,
   "id": "c68fb18dc3b72d4c",
   "metadata": {
    "ExecuteTime": {
     "start_time": "2023-09-03T12:12:34.501656600Z"
    },
    "collapsed": false,
    "jupyter": {
     "outputs_hidden": false
    }
   },
   "outputs": [],
   "source": [
    "data.drop_duplicates(inplace=True)\n",
    "\n",
    "# check for duplicate values again\n",
    "data.duplicated().sum()"
   ]
  },
  {
   "cell_type": "markdown",
   "id": "d123614f3a2e9820",
   "metadata": {
    "collapsed": false,
    "jupyter": {
     "outputs_hidden": false
    }
   },
   "source": [
    "### Check for datatypes in the dataset"
   ]
  },
  {
   "cell_type": "code",
   "execution_count": null,
   "id": "51dda12d31eb748f",
   "metadata": {
    "ExecuteTime": {
     "start_time": "2023-09-03T12:12:34.501656600Z"
    },
    "collapsed": false,
    "jupyter": {
     "outputs_hidden": false
    }
   },
   "outputs": [],
   "source": [
    "data.info()"
   ]
  },
  {
   "cell_type": "markdown",
   "id": "dd7e8c982153bf83",
   "metadata": {
    "collapsed": false,
    "jupyter": {
     "outputs_hidden": false
    }
   },
   "source": [
    "## Data Visualization"
   ]
  },
  {
   "cell_type": "code",
   "execution_count": null,
   "id": "7bfe71cb8ba812a7",
   "metadata": {
    "ExecuteTime": {
     "start_time": "2023-09-03T12:12:34.501656600Z"
    },
    "collapsed": false,
    "jupyter": {
     "outputs_hidden": false
    }
   },
   "outputs": [],
   "source": [
    "# Let's visualize the class column\n",
    "plt.figure(figsize=(10, 7))\n",
    "sns.countplot(data=data, x=\"class\")\n",
    "plt.show()"
   ]
  },
  {
   "cell_type": "markdown",
   "id": "663f51f0c546c1bf",
   "metadata": {
    "collapsed": false,
    "jupyter": {
     "outputs_hidden": false
    }
   },
   "source": [
    "\n",
    "From the above plot, our data contains more examples of `ham` which means `not spam` as compared to `spam`"
   ]
  },
  {
   "cell_type": "markdown",
   "id": "74d758d872cde8ca",
   "metadata": {
    "collapsed": false,
    "jupyter": {
     "outputs_hidden": false
    }
   },
   "source": []
  },
  {
   "cell_type": "code",
   "execution_count": null,
   "id": "2b413310a119a3c3",
   "metadata": {
    "ExecuteTime": {
     "start_time": "2023-09-03T12:12:34.501656600Z"
    },
    "collapsed": false,
    "jupyter": {
     "outputs_hidden": false
    }
   },
   "outputs": [],
   "source": [
    "wordcloud = WordCloud(background_color=\"white\",width=1600, height=800).generate(' '.join(data[\"text\"].tolist()))\n",
    "plt.figure(figsize=(20,10), facecolor='k')\n",
    "plt.imshow(wordcloud)"
   ]
  },
  {
   "cell_type": "code",
   "execution_count": null,
   "id": "e725e59198596cff",
   "metadata": {
    "ExecuteTime": {
     "start_time": "2023-09-03T12:12:34.501656600Z"
    },
    "collapsed": false,
    "jupyter": {
     "outputs_hidden": false
    }
   },
   "outputs": [],
   "source": [
    "# Save the new datafile in the folder\n",
    "data.to_csv(\"../data/data_cleaned.csv\", index=False, header=True)"
   ]
  }
 ],
 "metadata": {
  "kernelspec": {
   "display_name": "Python 3 (ipykernel)",
   "language": "python",
   "name": "python3"
  },
  "language_info": {
   "codemirror_mode": {
    "name": "ipython",
    "version": 3
   },
   "file_extension": ".py",
   "mimetype": "text/x-python",
   "name": "python",
   "nbconvert_exporter": "python",
   "pygments_lexer": "ipython3",
   "version": "3.10.12"
  }
 },
 "nbformat": 4,
 "nbformat_minor": 5
}
